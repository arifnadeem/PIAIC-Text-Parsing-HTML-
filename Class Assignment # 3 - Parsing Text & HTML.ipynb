{
 "cells": [
  {
   "cell_type": "code",
   "execution_count": 89,
   "metadata": {},
   "outputs": [
    {
     "name": "stdout",
     "output_type": "stream",
     "text": [
      "Enter the name of the file: test.txt\n",
      "\n",
      " Spaces = 224 \n",
      " Lines = ï»¿totaltabcount=0\n",
      " \n",
      " Characters = 38341\n",
      "\n",
      " no of tabs in the file :  8\n",
      "\n",
      " no of lines in the file :  257\n",
      "\n",
      " no of words in the file :  1\n",
      "\n",
      " no of characters in the file :  19\n",
      "\n"
     ]
    }
   ],
   "source": [
    "file = open(input(\"Enter the name of the file: \"),'r',encoding=\"mbcs\")\n",
    "lines = 0\n",
    "words = 0\n",
    "characters = 0\n",
    "tabcount=0\n",
    "space = 0\n",
    "\n",
    "for line in file:\n",
    "    wordslist = line.split()\n",
    "    lines = lines + 1\n",
    "    words = words + len(wordslist)\n",
    "    characters = characters + len(line)\n",
    "    for i in file:\n",
    "        tabcount += i.count('\\t')\n",
    "        for i in text:\n",
    "            if(i == \" \"):\n",
    "                space += 1\n",
    "            elif(i == \"\\n\"):\n",
    "                lines += 1\n",
    "            else:\n",
    "                charc += 1\n",
    "print (\"\\n Spaces = {} \\n Lines = {} \\n Characters = {}\".format(space,line,charc))             \n",
    "print('\\n no of tabs in the file : ' ,tabcount)\n",
    "print('\\n no of lines in the file : ',lines)\n",
    "print('\\n no of words in the file : ',words)\n",
    "print('\\n no of characters in the file : ',characters)\n",
    "print(file.read())"
   ]
  },
  {
   "cell_type": "code",
   "execution_count": 24,
   "metadata": {},
   "outputs": [
    {
     "name": "stdout",
     "output_type": "stream",
     "text": [
      "Enter the name of the file:sample_text_file.txt\n",
      "no of lines in the file :  4821\n",
      "no of words in the file :  38128\n",
      "no of characters in the file :  137484\n",
      "\n"
     ]
    }
   ],
   "source": [
    "file = open(input(\"Enter the name of the file:\"),'r',encoding=\"mbcs\")\n",
    "lines = 0\n",
    "words = 0\n",
    "characters = 0\n",
    "for line in file:\n",
    "    wordslist = line.split()\n",
    "    lines = lines + 1\n",
    "    words = words + len(wordslist)\n",
    "    characters = characters + len(line)\n",
    "print('no of lines in the file : ',lines)\n",
    "print('no of words in the file : ',words)\n",
    "print('no of characters in the file : ',characters)\n",
    "print(file.read())"
   ]
  },
  {
   "cell_type": "code",
   "execution_count": 1,
   "metadata": {},
   "outputs": [
    {
     "name": "stdout",
     "output_type": "stream",
     "text": [
      "test for split command and .txt file is run \n",
      "\n",
      "no of lines in the file :  ['ï»¿totaltabcount=0']\n",
      "no of lines in the file :  []\n",
      "no of lines in the file :  []\n",
      "no of lines in the file :  ['for', 'line', 'in', 'file:']\n",
      "no of lines in the file :  ['for', 'chardata', 'in', 'line']\n",
      "no of lines in the file :  ['if', 'chardata==\"', '\"']\n",
      "no of lines in the file :  ['totaltabcount++;']\n",
      "no of lines in the file :  []\n",
      "no of lines in the file :  []\n",
      "no of lines in the file :  []\n",
      "no of lines in the file :  []\n",
      "no of lines in the file :  []\n",
      "no of lines in the file :  ['empty', 'empty', 'w']\n",
      "no of lines in the file :  []\n",
      "no of lines in the file :  []\n",
      "no of lines in the file :  ['how', 'to', 'build', 'looplogic', 'building']\n",
      "no of lines in the file :  []\n"
     ]
    }
   ],
   "source": [
    "print('test for split command and .txt file is run \\n')\n",
    "f = open('test.txt',encoding=\"mbcs\")\n",
    "for line in f:\n",
    "    wordslist = line.split()\n",
    "    print('no of lines in the file : ',wordslist)    "
   ]
  },
  {
   "cell_type": "code",
   "execution_count": 12,
   "metadata": {},
   "outputs": [
    {
     "name": "stdout",
     "output_type": "stream",
     "text": [
      "f.read command is used for show the text/data in this document \n",
      "\n",
      "Enter the name of the file:assignment file parsing.txt\n",
      "\n",
      "input the name of filename and print \n",
      "number of words in the file\n",
      "\n",
      "\n",
      "number of lines in the file (\\n , \\n\\r, \\r)\n",
      "\n",
      "\n",
      "number of non-space character in the files\n",
      "\n",
      "\n",
      "number of spaces in the file\n",
      "\n",
      "\n",
      "number of tabs in the file \\t\n",
      "\n",
      "\n",
      "number of paragraph in the file ( muliple blank spaces (grether than  2 space)\n",
      "  just after a line break after the last line)\n",
      "\n",
      "\n",
      "submission instruction \n",
      "github link of notebook with output\n",
      "\n",
      "---------------------\n",
      "\n",
      "\n",
      "input the name of html file name and print\n",
      "tags names used in the file \n",
      "\n",
      "and the count of tags \n",
      "\n",
      "\n",
      "submission instruction: \n",
      "github link of notebook with output\n",
      "\n",
      "\n",
      " \n",
      "def count_words(filename):\n",
      "   \n",
      "\n",
      " \"\"\"Count the approximate number of words in a file.\"\"\"\n",
      "\n",
      " try: with open(filename) as f_obj:\n",
      " contents = f_obj.read()\n",
      "\n",
      "except FileNotFoundError:\n",
      "       \n",
      "\n",
      "msg = \"Sorry, the file \" + filename + \" does not exist.\"\n",
      "\n",
      "\n",
      "print(msg)\n",
      "\n",
      "\n",
      "else:\n",
      "\n",
      "\n",
      "# Count approximate number of words in the file.\n",
      "\n",
      "\n",
      "words = contents.split()\n",
      "\n",
      "\n",
      "num_words = len(words)\n",
      "\n",
      "print(\"The file \" + filename + \" has about \" + str(num_words) + \" words.\")\n",
      "\n",
      "\n",
      "\n",
      "filenames = ['alice.txt', 'siddhartha.txt', 'moby_dick.txt', 'little_women.txt']\n",
      "\n",
      "\n",
      "for filename in filenames:\n",
      "\n",
      "\n",
      "    count_words(filename)\n"
     ]
    }
   ],
   "source": [
    "print('f.read command is used for show the text/data in this document \\n')\n",
    "f = open(input(\"Enter the name of the file:\"),'r',encoding=\"mbcs\")\n",
    "print('\\n'+ f.read())"
   ]
  },
  {
   "cell_type": "code",
   "execution_count": 15,
   "metadata": {},
   "outputs": [
    {
     "name": "stdout",
     "output_type": "stream",
     "text": [
      "f.read command is used for show the html tags/coding in this document \n",
      "\n",
      "Enter the name of the file:example_html_file.html\n",
      "\n",
      "<html>\n",
      "\n",
      "<head>\n",
      "<title>this is where the page title would go!</title>\n",
      "<style>\n",
      "body {\n",
      "  background-color: #000000;\n",
      "  font-family: Helvetica, Arial, sans-serif;\n",
      "  font-size: 14px;\n",
      "  color: white;\n",
      "}\n",
      "h1 {\n",
      "  font-size: 2em;\n",
      "}\n",
      "a:hover {\n",
      "  color: #cccccc;\n",
      "}\n",
      "p {\n",
      "  color: blue;\n",
      "}\n",
      ".redtext {\n",
      "  color: red;\n",
      "}\n",
      "p.redtext {\n",
      "  width: 100px;\n",
      "}\n",
      "</style>\n",
      "</head>\n",
      "\n",
      "<body>\n",
      "<h1>a header!</h1>\n",
      "<p>this is just a paragraph on the page</p>\n",
      "<p class=\"redtext\">this is just another paragraph on the page</p>\n",
      "<p>a third paragraph. insanity! <a href=\"http://google.com\">with a link!</a></p>\n",
      "</body>\n",
      "\n",
      "</html>\n",
      "\n"
     ]
    }
   ],
   "source": [
    "print('f.read command is used for show the html tags/coding in this document \\n')\n",
    "f = open(input(\"Enter the name of the file:\"),'r',encoding=\"mbcs \\n\")\n",
    "print('\\n' + f.read())"
   ]
  },
  {
   "cell_type": "code",
   "execution_count": 21,
   "metadata": {},
   "outputs": [
    {
     "name": "stdout",
     "output_type": "stream",
     "text": [
      "program is count the total words in the single line \n",
      "\n",
      "Enter the name of the file:test.txt\n",
      "\n",
      " the total words of the line is :  1\n",
      "\n",
      " the total words of the line is :  0\n",
      "\n",
      " the total words of the line is :  0\n",
      "\n",
      " the total words of the line is :  4\n",
      "\n",
      " the total words of the line is :  4\n",
      "\n",
      " the total words of the line is :  3\n",
      "\n",
      " the total words of the line is :  1\n",
      "\n",
      " the total words of the line is :  0\n",
      "\n",
      " the total words of the line is :  0\n",
      "\n",
      " the total words of the line is :  0\n",
      "\n",
      " the total words of the line is :  0\n",
      "\n",
      " the total words of the line is :  0\n",
      "\n",
      " the total words of the line is :  3\n",
      "\n",
      " the total words of the line is :  0\n",
      "\n",
      " the total words of the line is :  0\n",
      "\n",
      " the total words of the line is :  5\n",
      "\n",
      " the total words of the line is :  0\n"
     ]
    }
   ],
   "source": [
    "print('program is count the total words in the single line \\n')\n",
    "file = open(input(\"Enter the name of the file:\"),encoding=\"mbcs\")\n",
    "words = 0\n",
    "for line in file:\n",
    "    wordlist = line.split()\n",
    "    words =  len(wordlist)\n",
    "    print (\"\\n the total words of the line is : \",words)"
   ]
  },
  {
   "cell_type": "code",
   "execution_count": 11,
   "metadata": {},
   "outputs": [
    {
     "name": "stdout",
     "output_type": "stream",
     "text": [
      "Enter the name of the file:test.txt\n",
      "the total words in the file is :  171\n"
     ]
    }
   ],
   "source": [
    "file = open(input(\"Enter the name of the file:\"),encoding=\"mbcs\")\n",
    "words = 0\n",
    "for line in file:\n",
    "    wordlist = line.split()\n",
    "    words = words + len(wordlist)\n",
    "print (\"the total words in the file is : \",words)"
   ]
  },
  {
   "cell_type": "code",
   "execution_count": 22,
   "metadata": {},
   "outputs": [
    {
     "name": "stdout",
     "output_type": "stream",
     "text": [
      "Enter the name of the file:test.txt\n",
      "the total words in the file is :  21\n",
      "the total lines in the file is :  17\n"
     ]
    }
   ],
   "source": [
    "file = open(input(\"Enter the name of the file:\"),encoding=\"mbcs\")\n",
    "words = 0\n",
    "lines = 0\n",
    "for data in file:\n",
    "    wordlist = data.split()\n",
    "    words = words + len(wordlist)\n",
    "    lines = lines + 1\n",
    "print (\"the total words in the file is : \",words)\n",
    "print (\"the total lines in the file is : \",lines)"
   ]
  },
  {
   "cell_type": "code",
   "execution_count": 21,
   "metadata": {},
   "outputs": [
    {
     "name": "stdout",
     "output_type": "stream",
     "text": [
      "tabcount 4\n"
     ]
    }
   ],
   "source": [
    "f = open('test.txt', 'r')\n",
    "    \n",
    "tabcount=0\n",
    "for i in f:\n",
    "    tabcount+=i.count('\\t')\n",
    "print('tabcount' ,tabcount)"
   ]
  }
 ],
 "metadata": {
  "kernelspec": {
   "display_name": "Python 3",
   "language": "python",
   "name": "python3"
  },
  "language_info": {
   "codemirror_mode": {
    "name": "ipython",
    "version": 3
   },
   "file_extension": ".py",
   "mimetype": "text/x-python",
   "name": "python",
   "nbconvert_exporter": "python",
   "pygments_lexer": "ipython3",
   "version": "3.7.3"
  }
 },
 "nbformat": 4,
 "nbformat_minor": 2
}
